{
  "nbformat": 4,
  "nbformat_minor": 0,
  "metadata": {
    "colab": {
      "name": "Project 2 (Part 1).ipynb",
      "provenance": [],
      "collapsed_sections": [],
      "authorship_tag": "ABX9TyPrddUJ0YMtHZKE7yZ8638n",
      "include_colab_link": true
    },
    "kernelspec": {
      "name": "python3",
      "display_name": "Python 3"
    },
    "language_info": {
      "name": "python"
    }
  },
  "cells": [
    {
      "cell_type": "markdown",
      "metadata": {
        "id": "view-in-github",
        "colab_type": "text"
      },
      "source": [
        "<a href=\"https://colab.research.google.com/github/bradshawjoshua/Early-Detection-Heart-Disease/blob/main/Project_2_(Part_1).ipynb\" target=\"_parent\"><img src=\"https://colab.research.google.com/assets/colab-badge.svg\" alt=\"Open In Colab\"/></a>"
      ]
    },
    {
      "cell_type": "markdown",
      "source": [
        "#First Choice: Dataset 1\n",
        "\n",
        "###1) Source of data\n",
        "*     https://www.kaggle.com/datasets/fedesoriano/heart-failure-prediction\n",
        "\n",
        "###2) Brief description of data\n",
        "*     Predict heart failure caused by various cardiovascular diseases. This data set aims to look at a dataset across many health attributes. I will be looking at over 918 observations from many locations worldwide.\n",
        "\n",
        "###3) What is the target?\n",
        "*     The target is to create an early detection of whether someone will have heart failure.\n",
        "\n",
        "###4) Is this a classification or regression problem?\n",
        "*     Classification.\n",
        "\n",
        "###5) How many features?\n",
        "*     12 features.\n",
        "\n",
        "###6) How many rows of data.\n",
        "*     1190 observations.\n",
        "\n",
        "###7) What challenges do you foresee in cleaning, exploring, or modeling with this dataset?\n",
        "*     Lack of observations for underrepresented categories. Missing attributes that could help improve our classification metrics."
      ],
      "metadata": {
        "id": "WjDucyBXPgg8"
      }
    },
    {
      "cell_type": "markdown",
      "source": [
        "#--BREAK--"
      ],
      "metadata": {
        "id": "MS-s-TmKZpmk"
      }
    },
    {
      "cell_type": "markdown",
      "source": [
        "#Second Choice: Dataset 2\n",
        "\n",
        "###1) Source of data\n",
        "*     https://www.kaggle.com/datasets/fedesoriano/stroke-prediction-dataset\n",
        "\n",
        "###2) Brief description of data:\n",
        "*     According to World Health, stroke is the second leading cause of death worldwide. The data set would like to improve the early detection of stroke in new patients based on the attributes provided.\n",
        "\n",
        "###3) What is the target?\n",
        "*     I am predicting the likelihood of a person incurring a stroke.\n",
        "\n",
        "###4) Is this a classification or regression problem?\n",
        "*     Classification.\n",
        "\n",
        "###5) How many features?\n",
        "*     12 features.\n",
        "\n",
        "###6) How many rows of data.\n",
        "*     5110 observations.\n",
        "\n",
        "###7) What, if any, challenges do your foresee in cleaning, exploring, or modeling with this dataset?\n",
        "*     By quickly scanning the details, I noticed that hypertension and heart disease features represent the patients with the diseases (1) aforementioned. I would need to do some oversampling (SMOTE) to overcome areas where data is lacking. I would also like more technical features such as those in dataset 1."
      ],
      "metadata": {
        "id": "oJww2pFaRYal"
      }
    }
  ]
}